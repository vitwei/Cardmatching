{
 "cells": [
  {
   "cell_type": "code",
   "execution_count": 1,
   "id": "3576716f",
   "metadata": {},
   "outputs": [],
   "source": [
    "import socket\n",
    "import tkinter as tk\n",
    "from tkinter import filedialog\n",
    "import numpy as np\n",
    "from PIL import Image, ImageTk\n",
    "import pandas as pd\n",
    "import re\n",
    "import matplotlib.pyplot as plt\n",
    "from datetime import datetime\n",
    "from matplotlib.backends.backend_tkagg import FigureCanvasTkAgg\n",
    "from matplotlib.figure import Figure"
   ]
  },
  {
   "cell_type": "code",
   "execution_count": 2,
   "id": "79ffaff6",
   "metadata": {},
   "outputs": [],
   "source": [
    "dataset=pd.read_excel('res.xlsx')"
   ]
  },
  {
   "cell_type": "code",
   "execution_count": 3,
   "id": "788dfb86",
   "metadata": {
    "scrolled": true
   },
   "outputs": [],
   "source": [
    "def communicate_with_cpp(image_path):\n",
    "    try:\n",
    "        # 创建一个套接字对象\n",
    "        client_socket = socket.socket(socket.AF_INET, socket.SOCK_STREAM)\n",
    "        # 连接到 C++ 服务器\n",
    "        server_address = ('127.0.0.1', 9898)\n",
    "        client_socket.connect(server_address)\n",
    "        # 发送数据到服务器\n",
    "        message_to_send = image_path\n",
    "        client_socket.sendall(message_to_send.encode('utf-8'))\n",
    "        # 接收从服务器返回的数据\n",
    "        data_received = client_socket.recv(1024).decode('utf-8')\n",
    "        return data_received \n",
    "    except Exception as e:\n",
    "        print(f\"Error communicating with C++: {e}\")\n",
    "        return None\n",
    "    finally:\n",
    "        # 关闭连接\n",
    "        client_socket.close()"
   ]
  },
  {
   "cell_type": "code",
   "execution_count": 4,
   "id": "d033ed8f",
   "metadata": {},
   "outputs": [],
   "source": [
    "def process(data_received):\n",
    "    pattern = r'(J:\\\\WorkWork\\\\bugproject\\\\data_images\\\\[^\\s]+\\.jpg)'\n",
    "    file_paths = re.findall(r'J:\\\\WorkWork\\\\bugproject\\\\data_images\\\\[^J]*\\.jpg', data_received)\n",
    "    file_names = [re.search(r'\\\\([^\\\\]*)$', path).group(1) for path in file_paths]\n",
    "    result = dataset[dataset['IMG'].isin(file_names)]\n",
    "    file_mapping = {name: path for name, path in zip(file_names, file_paths)}\n",
    "    result=result.sort_values('Dealtime')\n",
    "    return_paths = [file_mapping[name] for name in result['IMG'].tolist()]\n",
    "    result['Price'] = result['Price'].str.replace(',', '')\n",
    "    result['Price'] = result['Price'].astype(float)\n",
    "    return result['Dealtime'].tolist(),result['Price'].tolist(),return_paths"
   ]
  },
  {
   "cell_type": "code",
   "execution_count": null,
   "id": "6c457d06",
   "metadata": {},
   "outputs": [],
   "source": [
    "labels = []\n",
    "def browse_file():\n",
    "    file_path = filedialog.askopenfilename()\n",
    "    entry_path.delete(0, tk.END)\n",
    "    entry_path.insert(0, file_path)\n",
    "def on_submit():\n",
    "    global dealtime, price,paths,PriceImg,index\n",
    "    jpg = entry_path.get()\n",
    "    data=communicate_with_cpp(jpg)\n",
    "    dealtime,price,paths=process(data)\n",
    "    index=len(dealtime)\n",
    "    \n",
    "def display_data():\n",
    "    # 显示五张照片\n",
    "    chart_window = tk.Toplevel(root)\n",
    "    chart_window.title('Matplotlib Chart')\n",
    "    images_window = tk.Toplevel(root)\n",
    "    images_window.title(\"Images\")\n",
    "    for i in range(index):\n",
    "        original_img = Image.open(paths[i])\n",
    "        resized_img = original_img.resize((100, 300), Image.LANCZOS)\n",
    "        img = ImageTk.PhotoImage(resized_img)\n",
    "        label = tk.Label(images_window, image=img)\n",
    "        label.image = img\n",
    "        label.grid(row=0, column=i)  # 使用grid布局\n",
    "        labels.append(label)\n",
    "    fig = Figure(figsize=(6, 5), dpi=100)\n",
    "    ax = fig.add_subplot(111)\n",
    "    df = pd.DataFrame({'Time': dealtime, 'Price': price})\n",
    "    df['Price'] = df['Price'].astype(float)\n",
    "    # 设置日期为 x 轴\n",
    "    ax.plot(df['Time'], df['Price'], marker='o', linestyle='-', color='b')\n",
    "    ax.set_xticks(range(len(df['Time'])))\n",
    "    ax.set_xticklabels(df['Time'], rotation=45, ha='right', fontsize=7)\n",
    "    ax.set_title('Price Trend Over Time')\n",
    "    ax.set_xlabel('Time')\n",
    "    ax.set_ylabel('Price')\n",
    "    ax.grid(True)\n",
    "    for i, (T, P) in enumerate(zip(df['Time'], df['Price'])):\n",
    "        ax.text(T, P, f'{P}', ha='left', va='bottom')\n",
    "    fig.tight_layout()\n",
    "    canvas = FigureCanvasTkAgg(fig, master=chart_window)\n",
    "\n",
    "    canvas_widget = canvas.get_tk_widget()\n",
    "    canvas_widget.pack()\n",
    "# 销毁之前的Label和图片\n",
    "def destroy_previous_image():\n",
    "    global labels\n",
    "    for label in labels:\n",
    "        label.destroy()\n",
    "    labels = []\n",
    "    \n",
    "# 创建主窗口\n",
    "root = tk.Tk()\n",
    "root.title(\"GUI 示例\")\n",
    "# 创建并放置 GUI 元素\n",
    "label_path = tk.Label(root, text=\"JPG 文件路径:\")\n",
    "label_path.pack()\n",
    "entry_path = tk.Entry(root, width=50)\n",
    "entry_path.pack()\n",
    "button_browse = tk.Button(root, text=\"浏览\", command=browse_file)\n",
    "button_browse.pack()\n",
    "button_submit = tk.Button(root, text=\"提交\", command=on_submit)\n",
    "button_submit.pack()\n",
    "button_display_next = tk.Button(root, text=\"显示数据\", command=display_data)\n",
    "button_display_next.pack()\n",
    "\n",
    "\n",
    "# 开始 GUI 主循环\n",
    "if __name__ == '__main__':\n",
    "    root.mainloop()"
   ]
  },
  {
   "cell_type": "code",
   "execution_count": 116,
   "id": "4b057787",
   "metadata": {},
   "outputs": [],
   "source": [
    "for i, (time, price) in enumerate(zip(df['Time'], df['Price'])):\n",
    "    ax.text(time, price, f'{price}', ha='left', va='bottom')"
   ]
  },
  {
   "cell_type": "code",
   "execution_count": null,
   "id": "ba8c01dc",
   "metadata": {},
   "outputs": [],
   "source": []
  }
 ],
 "metadata": {
  "kernelspec": {
   "display_name": "Python 3 (ipykernel)",
   "language": "python",
   "name": "python3"
  },
  "language_info": {
   "codemirror_mode": {
    "name": "ipython",
    "version": 3
   },
   "file_extension": ".py",
   "mimetype": "text/x-python",
   "name": "python",
   "nbconvert_exporter": "python",
   "pygments_lexer": "ipython3",
   "version": "3.11.5"
  }
 },
 "nbformat": 4,
 "nbformat_minor": 5
}
